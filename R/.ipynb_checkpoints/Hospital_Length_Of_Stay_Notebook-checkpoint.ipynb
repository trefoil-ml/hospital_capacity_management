{
 "cells": [
  {
   "cell_type": "markdown",
   "metadata": {},
   "source": [
    "# Hospital Length of Stay\n",
    "\n",
    "In order for hospitals to optimize resource allocation, it is important to predict accurately how long a newly admitted patient will stay in the hospital.\n",
    "\n",
    "This notebook takes advantage of the power of SQL Server and RevoScaleR (Microsoft R Server). The tables are all stored in a SQL Server, and most of the computations are done by loading chunks of data in-memory instead of the whole dataset.\n",
    "\n",
    "It does the following: \n",
    "\n",
    " * **Step 0: Packages and Compute Contexts**\n",
    " * **Step 1: Processing and Cleaning**\n",
    " * **Step 2: Feature Engineering**\n",
    " * **Step 3: Training and Evalutating a Random Forest (rxDForest) and Boosted Trees (rxFastTrees)**"
   ]
  },
  {
   "cell_type": "markdown",
   "metadata": {},
   "source": [
    "## Step 0: Packages and Compute Contexts\n",
    "\n",
    "#### In this step, we set up the connection string to access a SQL Server Database and load the necessary packages. "
   ]
  },
  {
   "cell_type": "code",
   "execution_count": 133,
   "metadata": {
    "collapsed": true
   },
   "outputs": [],
   "source": [
    "# WARNING.\n",
    "# We recommend not using Internet Explorer as it does not support plotting, and may crash your session."
   ]
  },
  {
   "cell_type": "code",
   "execution_count": 16,
   "metadata": {
    "collapsed": false
   },
   "outputs": [],
   "source": [
    "# Load packages.\n",
    "library(RevoScaleR)\n",
    "library(\"MicrosoftML\")"
   ]
  },
  {
   "cell_type": "code",
   "execution_count": 1,
   "metadata": {
    "collapsed": false
   },
   "outputs": [
    {
     "data": {
      "text/html": [
       "TRUE"
      ],
      "text/latex": [
       "TRUE"
      ],
      "text/markdown": [
       "TRUE"
      ],
      "text/plain": [
       "[1] TRUE"
      ]
     },
     "metadata": {},
     "output_type": "display_data"
    },
    {
     "data": {
      "text/html": [
       "TRUE"
      ],
      "text/latex": [
       "TRUE"
      ],
      "text/markdown": [
       "TRUE"
      ],
      "text/plain": [
       "[1] TRUE"
      ]
     },
     "metadata": {},
     "output_type": "display_data"
    }
   ],
   "source": [
    "# Choose a database name and create it. \n",
    "db <- \"HospitalR\"\n",
    "\n",
    "## Connect to the master database only to create a new database. Change UID and PWD if you modified them. \n",
    "connection_string <- \"Driver=SQL Server;Server=localhost;Database=master;UID=rdemo;PWD=D@tascience\"\n",
    "\n",
    "## Open a connection with SQL Server to be able to write queries with the rxExecuteSQLDDL function.\n",
    "outOdbcDS <- RxOdbcData(table = \"NewData\", connectionString = connection_string, useFastRead=TRUE)\n",
    "rxOpen(outOdbcDS, \"w\")\n",
    "\n",
    "query <- sprintf( \"if not exists(SELECT * FROM sys.databases WHERE name = '%s') CREATE DATABASE %s;\", db, db)\n",
    "\n",
    "## Create database. \n",
    "rxExecuteSQLDDL(outOdbcDS, sSQLString = query)"
   ]
  },
  {
   "cell_type": "code",
   "execution_count": 2,
   "metadata": {
    "collapsed": false
   },
   "outputs": [
    {
     "data": {
      "text/html": [
       "TRUE"
      ],
      "text/latex": [
       "TRUE"
      ],
      "text/markdown": [
       "TRUE"
      ],
      "text/plain": [
       "[1] TRUE"
      ]
     },
     "metadata": {},
     "output_type": "display_data"
    }
   ],
   "source": [
    "# Define Compute Contexts: user to input Server Name, database name, UID and Password. \n",
    "connection_string <- sprintf(\"Driver=SQL Server;Server=localhost;Database=%s;UID=rdemo;PWD=D@tascience\", db)\n",
    "sql <- RxInSqlServer(connectionString = connection_string)\n",
    "local <- RxLocalSeq()\n",
    "\n",
    "# Open a connection with SQL Server to be able to write queries with the rxExecuteSQLDDL function in the new database.\n",
    "outOdbcDS <- RxOdbcData(table = \"NewData\", connectionString = connection_string, useFastRead=TRUE)\n",
    "rxOpen(outOdbcDS, \"w\")"
   ]
  },
  {
   "cell_type": "markdown",
   "metadata": {},
   "source": [
    "#### The function below can be used to get the top n rows of a table stored on SQL Server. \n",
    "#### You can execute this cell throughout your progress by removing the comment \"#\", and inputting:\n",
    "#### - the table name.\n",
    "#### - the number of rows you want to display."
   ]
  },
  {
   "cell_type": "code",
   "execution_count": 3,
   "metadata": {
    "collapsed": false
   },
   "outputs": [],
   "source": [
    " display_head <- function(table_name, n_rows){\n",
    "   table_sql <- RxSqlServerData(sqlQuery = sprintf(\"SELECT TOP(%s) * FROM %s\", n_rows, table_name), connectionString = connection_string)\n",
    "   table <- rxImport(table_sql)\n",
    "   print(table)\n",
    "}\n",
    "\n",
    "# table_name <- \"insert_table_name\"\n",
    "# n_rows <- 10\n",
    "# display_head(table_name, n_rows)"
   ]
  },
  {
   "cell_type": "markdown",
   "metadata": {},
   "source": [
    "## Step 1: Pre-Processing and Cleaning\n",
    "\n",
    "In this step, we: \n",
    "\n",
    "**1.** Upload the data set to SQL.\n",
    "\n",
    "**2.** Clean the merged data set: we replace NAs with the mode (categorical variables) or mean (continuous variables).\n",
    "\n",
    "**Input:**  Data Set LengthOfStay.csv\n",
    "\n",
    "**Output:** Cleaned raw data set LoS."
   ]
  },
  {
   "cell_type": "code",
   "execution_count": 4,
   "metadata": {
    "collapsed": true
   },
   "outputs": [],
   "source": [
    "# Set the compute context to Local. \n",
    "rxSetComputeContext(local)"
   ]
  },
  {
   "cell_type": "code",
   "execution_count": 5,
   "metadata": {
    "collapsed": false,
    "scrolled": false
   },
   "outputs": [
    {
     "name": "stdout",
     "output_type": "stream",
     "text": [
      "Rows Read: 100000, Total Rows Processed: 100000, Total Chunk Time: 2.484 seconds \n",
      "\n",
      "Elapsed time to compute low/high values and/or factor levels: 2.757 secs.\n",
      " \n",
      "Total Rows written: 100000, Total time: 6.173\n",
      "Rows Read: 100000, Total Rows Processed: 100000, Total Chunk Time: 8.634 seconds \n",
      "[1] \"Data exported to SQL\"\n"
     ]
    }
   ],
   "source": [
    "# Upload the data set to SQL.\n",
    "\n",
    "## Specify the desired column types. \n",
    "## When uploading to SQL, Character and Factor are converted to nvarchar(255), Integer to Integer and Numeric to Float. \n",
    "column_types <-  c(eid = \"integer\",               \n",
    "                   vdate = \"character\",           \n",
    "                   rcount = \"character\",        \n",
    "                   gender = \"factor\",            \n",
    "                   dialysisrenalendstage = \"factor\",             \n",
    "                   asthma = \"factor\",                \n",
    "                   irondef = \"factor\",                   \n",
    "                   pneum = \"factor\",                 \n",
    "                   substancedependence = \"factor\",                  \n",
    "                   psychologicaldisordermajor = \"factor\",             \n",
    "                   depress = \"factor\",           \n",
    "                   psychother = \"factor\",        \n",
    "                   fibrosisandother = \"factor\",          \n",
    "                   malnutrition = \"factor\",                               \n",
    "                   hemo = \"factor\",            \n",
    "                   hematocrit = \"numeric\",           \n",
    "                   neutrophils = \"numeric\",           \n",
    "                   sodium = \"numeric\",          \n",
    "                   glucose = \"numeric\",             \n",
    "                   bloodureanitro = \"numeric\",                 \n",
    "                   creatinine = \"numeric\",                 \n",
    "                   bmi = \"numeric\",                 \n",
    "                   pulse = \"numeric\",                  \n",
    "                   respiration = \"numeric\",                  \n",
    "                   secondarydiagnosisnonicd9 = \"factor\",\n",
    "                   discharged = \"character\",\n",
    "                   facid = \"factor\",\n",
    "                   lengthofstay = \"integer\")\n",
    "\n",
    "\n",
    "## Point to the input data set while specifying the classes.\n",
    "LoS_text <- RxTextData(file = \"LengthOfStay.csv\", colClasses = column_types)\n",
    "\n",
    "## Upload the table to SQL. \n",
    "LengthOfStay_sql <- RxSqlServerData(table = \"LengthOfStay\", connectionString = connection_string)\n",
    "rxDataStep(inData = LoS_text, outFile = LengthOfStay_sql, overwrite = TRUE)\n",
    "\n",
    "print(\"Data exported to SQL\")"
   ]
  },
  {
   "cell_type": "code",
   "execution_count": 6,
   "metadata": {
    "collapsed": false
   },
   "outputs": [
    {
     "name": "stdout",
     "output_type": "stream",
     "text": [
      "Rows Read: 50000, Total Rows Processed: 50000, Total Chunk Time: 1.183 seconds\n",
      "Rows Read: 50000, Total Rows Processed: 100000, Total Chunk Time: 1.270 seconds \n",
      "Computation time: 2.794 seconds.\n",
      "[1] \"No missing values.\"\n"
     ]
    }
   ],
   "source": [
    "# Determine if LengthOfStay has missing values\n",
    "\n",
    "table <- \"LengthOfStay\"\n",
    "\n",
    "# First, get the names and types of the variables to be treated.\n",
    "data_sql <- RxSqlServerData(table = table, connectionString = connection_string)\n",
    "col <- rxCreateColInfo(data_sql)\n",
    "\n",
    "# Then, get the names of the variables that actually have missing values. Assumption: no NA in eid, lengthofstay, or dates. \n",
    "colnames <- names(col)\n",
    "var <- colnames[!colnames %in% c(\"eid\", \"lengthofstay\", \"vdate\", \"discharged\")]\n",
    "formula <- as.formula(paste(\"~\", paste(var, collapse = \"+\")))\n",
    "summary <- rxSummary(formula, data_sql, byTerm = TRUE)\n",
    "var_with_NA <- summary$sDataFrame[summary$sDataFrame$MissingObs > 0, 1] \n",
    "\n",
    "if(length(var_with_NA) == 0){\n",
    "  print(\"No missing values.\")\n",
    "  missing <- 0\n",
    "  \n",
    "} else{\n",
    "  print(\"Variables containing missing values are:\")\n",
    "  print(var_with_NA)\n",
    "  print(\"The NAs will be replaced with the mode or mean.\")\n",
    "  missing <- 1\n",
    "}    "
   ]
  },
  {
   "cell_type": "code",
   "execution_count": 7,
   "metadata": {
    "collapsed": false
   },
   "outputs": [
    {
     "name": "stdout",
     "output_type": "stream",
     "text": [
      "[1] \"Nothing to clean\"\n"
     ]
    }
   ],
   "source": [
    "# If applicable, NULL is replaced with the mode (categorical variables: integer or character) or mean (continuous variables).\n",
    "\n",
    "if(missing == 0){\n",
    "    print(\"Nothing to clean\")\n",
    "    LengthOfStay_cleaned_sql <- RxSqlServerData(table = table, connectionString = connection_string)\n",
    "} else{\n",
    "# Get the variables types (categortical vs. continuous) \n",
    "categ_names <- c()\n",
    "contin_names <- c()\n",
    "  for(name in var_with_NA){\n",
    "    if(col[[name]]$type == \"numeric\"){\n",
    "      contin_names[length(contin_names) + 1] <- name\n",
    "    } else{\n",
    "      categ_names[length(categ_names) + 1] <- name\n",
    "    }\n",
    "  }\n",
    "# For Categoricals: Compute the mode of the variables with SQL queries in table Modes. We then import Modes. \n",
    "rxExecuteSQLDDL(outOdbcDS, sSQLString = paste(\"DROP TABLE if exists Modes;\"\n",
    "                                              , sep=\"\"))\n",
    "\n",
    "rxExecuteSQLDDL(outOdbcDS, sSQLString = paste(\"CREATE TABLE Modes\n",
    "                                              (name varchar(30),\n",
    "                                              mode varchar(30));\"\n",
    "                                              , sep=\"\"))\n",
    "\n",
    "for(name in categ_names){\n",
    "  rxExecuteSQLDDL(outOdbcDS, sSQLString = sprintf(\"INSERT INTO Modes\n",
    "                                                  SELECT '%s', mode\n",
    "                                                  FROM (SELECT TOP(1) %s as mode, count(*) as cnt\n",
    "                                                  FROM %s\n",
    "                                                  GROUP BY %s \n",
    "                                                  ORDER BY cnt desc) as t;\",name, name, table, name))\n",
    "}\n",
    "Modes_sql <- RxSqlServerData(table = \"Modes\", connectionString = connection_string) \n",
    "Modes <- rxImport(Modes_sql)\n",
    "\n",
    "# For Continuous: Compute the mode of the variables with SQL queries in table Means. We then import Means. \n",
    "rxExecuteSQLDDL(outOdbcDS, sSQLString = paste(\"DROP TABLE if exists Means;\"\n",
    "                                              , sep=\"\"))\n",
    "\n",
    "rxExecuteSQLDDL(outOdbcDS, sSQLString = paste(\"CREATE TABLE Means\n",
    "                                              (name varchar(30),\n",
    "                                              mean float);\"\n",
    "                                              , sep=\"\"))\n",
    "\n",
    "for(name in contin_names){\n",
    "  rxExecuteSQLDDL(outOdbcDS, sSQLString = sprintf(\"INSERT INTO Means\n",
    "                                                  SELECT '%s', mean\n",
    "                                                  FROM (SELECT AVG(%s) as mean\n",
    "                                                  FROM %s) as t;\",name, name, table))\n",
    "}\n",
    "Means_sql <- RxSqlServerData(table = \"Means\", connectionString = connection_string) \n",
    "Means <- rxImport(Means_sql)\n",
    " \n",
    "# Function to replace missing values with the mode (categorical variables) or mean (continuous variables)\n",
    "fill_NA_mode_mean <- function(data){\n",
    "  data <- data.frame(data)\n",
    "  for(j in 1:length(categ)){\n",
    "    row_na <- which(is.na(data[,categ[j]]) == TRUE) \n",
    "    if(length(row_na > 0)){\n",
    "      data[row_na, categ[j]] <- subset(Mode, name == categ[j])[1,2]\n",
    "    }\n",
    "  }\n",
    "  for(j in 1:length(contin)){\n",
    "    row_na <- which(is.na(data[,contin[j]]) == TRUE) \n",
    "    if(length(row_na > 0)){\n",
    "      data[row_na, contin[j]] <- subset(Mean, name == contin[j])[1,2]\n",
    "    }\n",
    "  }\n",
    "  return(data)\n",
    "}\n",
    "\n",
    "# Apply this function to LeangthOfStay by wrapping it up in rxDataStep. Output is written to LoS0.   \n",
    "LoS0_sql <- RxSqlServerData(table = \"LoS0\", connectionString = connection_string)\n",
    "rxDataStep(inData = LengthOfStay_sql , outFile = LoS0_sql, overwrite = TRUE, transformFunc = fill_NA_mode_mean, \n",
    "           transformObjects = list(categ = categ_names, contin = contin_names, Mode = Modes, Mean = Means))\n",
    "   \n",
    "LengthOfStay_cleaned_sql <- RxSqlServerData(table = \"LoS0\", connectionString = connection_string)    \n",
    "    \n",
    "print(\"Data cleaned\")\n",
    "}\n"
   ]
  },
  {
   "cell_type": "markdown",
   "metadata": {},
   "source": [
    "## Step 2: Feature Engineering\n",
    "\n",
    "In this step, we:\n",
    "\n",
    "**1.** Standardize the continuous variables (Z-score).\n",
    "\n",
    "**2.** Create the variable number_of_issues: the number of preidentified medical conditions.\n",
    "\n",
    "**Input:** Data set before feature engineering LengthOfStay.\n",
    "\n",
    "**Output:** Data set with new features LoS."
   ]
  },
  {
   "cell_type": "code",
   "execution_count": 8,
   "metadata": {
    "collapsed": false
   },
   "outputs": [
    {
     "name": "stdout",
     "output_type": "stream",
     "text": [
      "Rows Read: 50000, Total Rows Processed: 50000, Total Chunk Time: 1.428 seconds\n",
      "Rows Read: 50000, Total Rows Processed: 100000, Total Chunk Time: 1.317 seconds \n",
      "Computation time: 2.899 seconds.\n",
      "Total Rows written: 50000, Total time: 1.986\n",
      "Rows Read: 50000, Total Rows Processed: 50000, Total Chunk Time: 3.979 secondsTotal Rows written: 50000, Total time: 3.158\n",
      "Rows Read: 50000, Total Rows Processed: 100000, Total Chunk Time: 5.531 seconds \n"
     ]
    },
    {
     "data": {
      "text/html": [
       "TRUE"
      ],
      "text/latex": [
       "TRUE"
      ],
      "text/markdown": [
       "TRUE"
      ],
      "text/plain": [
       "[1] TRUE"
      ]
     },
     "metadata": {},
     "output_type": "display_data"
    },
    {
     "name": "stdout",
     "output_type": "stream",
     "text": [
      "[1] \"Feature Engineering Completed\"\n"
     ]
    }
   ],
   "source": [
    "# Get the mean and standard deviation of those variables.\n",
    "names <- c(\"hematocrit\", \"neutrophils\", \"sodium\", \"glucose\", \"bloodureanitro\",\n",
    "           \"creatinine\", \"bmi\", \"pulse\", \"respiration\")\n",
    "summary <- rxSummary(formula = ~., LengthOfStay_cleaned_sql, byTerm = TRUE)$sDataFrame\n",
    "Statistics <- summary[summary$Name %in% names,c(\"Name\", \"Mean\", \"StdDev\")]\n",
    "\n",
    "# Function to standardize\n",
    "standardize <- function(data){\n",
    "  data <- data.frame(data)\n",
    "  for(n in 1:nrow(Stats)){\n",
    "    data[[Stats[n,1]]] <- (data[[Stats[n,1]]] - Stats[n,2])/Stats[n,3]\n",
    "    }\n",
    "  return(data)\n",
    "}\n",
    "\n",
    "# Apply this function to the cleaned table by wrapping it up in rxDataStep. Output is written to LoS.  \n",
    "# At the same time, we create number_of_issues as the number of preidentified medical conditions.\n",
    "# We also create lengthofstay_bucket as the bucketed version of lengthofstay for classification. \n",
    "LoS_sql <- RxSqlServerData(table = \"LoS\", connectionString = connection_string)\n",
    "rxDataStep(inData = LengthOfStay_cleaned_sql , outFile = LoS_sql, overwrite = TRUE, transformFunc = standardize, \n",
    "           transformObjects = list(Stats = Statistics), transforms = list(\n",
    "             number_of_issues = as.numeric(hemo) + as.numeric(dialysisrenalendstage) + as.numeric(asthma) + as.numeric(irondef) + \n",
    "                                as.numeric(pneum) + as.numeric(substancedependence) +\n",
    "                                as.numeric(psychologicaldisordermajor) + as.numeric(depress) + as.numeric(psychother) + \n",
    "                                as.numeric(fibrosisandother) + as.numeric(malnutrition) \n",
    "             \n",
    "           ))\n",
    "\n",
    "           \n",
    "# Converting number_of_issues to character with a SQL query because as.character in rxDataStep is crashing.           \n",
    "rxExecuteSQLDDL(outOdbcDS, sSQLString = paste(\"ALTER TABLE LoS ALTER COLUMN number_of_issues varchar(2);\", sep=\"\"))\n",
    "\n",
    "print(\"Feature Engineering Completed\")"
   ]
  },
  {
   "cell_type": "markdown",
   "metadata": {},
   "source": [
    "## Step 3: Training and Evaluating the Models\n",
    "\n",
    "In this step we:\n",
    "\n",
    "**1.** Split randomly the data set LoS into a training (LoS_Train) and a testing (LoS_Test) set.\n",
    " \n",
    "**2.** Train a Random Forest (rxDForest) and Boosted Trees (rxFastTrees) models on LoS_Train, and save them to SQL. \n",
    "\n",
    "**3.** Score the models on LoS_Test.\n",
    "\n",
    "**Input:** Data set LoS.\n",
    "\n",
    "**Output:** Random forest and Boosted Trees models saved to SQL and performance metrics.  "
   ]
  },
  {
   "cell_type": "code",
   "execution_count": 9,
   "metadata": {
    "collapsed": false
   },
   "outputs": [
    {
     "name": "stdout",
     "output_type": "stream",
     "text": [
      "[1] \"Column information received\"\n"
     ]
    }
   ],
   "source": [
    "# Point to the SQL table with the data set for modeling. Strings will be converted to factors.\n",
    "LoS <- RxSqlServerData(table = \"LoS\", connectionString = connection_string, stringsAsFactors = T)\n",
    "\n",
    "# Get variable names, types, and levels for factors.\n",
    "column_info <- rxCreateColInfo(LoS)\n",
    "\n",
    "print(\"Column information received\")"
   ]
  },
  {
   "cell_type": "code",
   "execution_count": 10,
   "metadata": {
    "collapsed": false
   },
   "outputs": [
    {
     "data": {
      "text/html": [
       "TRUE"
      ],
      "text/latex": [
       "TRUE"
      ],
      "text/markdown": [
       "TRUE"
      ],
      "text/plain": [
       "[1] TRUE"
      ]
     },
     "metadata": {},
     "output_type": "display_data"
    },
    {
     "data": {
      "text/html": [
       "TRUE"
      ],
      "text/latex": [
       "TRUE"
      ],
      "text/markdown": [
       "TRUE"
      ],
      "text/plain": [
       "[1] TRUE"
      ]
     },
     "metadata": {},
     "output_type": "display_data"
    },
    {
     "data": {
      "text/html": [
       "TRUE"
      ],
      "text/latex": [
       "TRUE"
      ],
      "text/markdown": [
       "TRUE"
      ],
      "text/plain": [
       "[1] TRUE"
      ]
     },
     "metadata": {},
     "output_type": "display_data"
    },
    {
     "name": "stdout",
     "output_type": "stream",
     "text": [
      "[1] \"Splitting completed\"\n"
     ]
    }
   ],
   "source": [
    "# Randomly split the data into a training set and a testing set, with a splitting % p.\n",
    "# p % goes to the training set, and the rest goes to the testing set. Default is 70%. \n",
    "\n",
    "p <- \"70\" \n",
    "\n",
    "## Open a connection with SQL Server to be able to write queries with the rxExecuteSQLDDL function.\n",
    "outOdbcDS <- RxOdbcData(table = \"NewData\", connectionString = connection_string, useFastRead=TRUE)\n",
    "rxOpen(outOdbcDS, \"w\")\n",
    "\n",
    "## Create the Train_Id table containing Lead_Id of training set. \n",
    "rxExecuteSQLDDL(outOdbcDS, sSQLString = paste(\"DROP TABLE if exists Train_Id;\", sep=\"\"))\n",
    "\n",
    "rxExecuteSQLDDL(outOdbcDS, sSQLString = sprintf(\n",
    "  \"SELECT eid\n",
    "   INTO Train_Id\n",
    "   FROM LoS\n",
    "   WHERE ABS(CAST(BINARY_CHECKSUM(eid, NEWID()) as int)) %s < %s ;\"\n",
    "  ,\"% 100\", p ))\n",
    "\n",
    "## Point to the training set. It will be created on the fly when training models. \n",
    "LoS_Train <- RxSqlServerData(  \n",
    "  sqlQuery = \"SELECT *   \n",
    "              FROM LoS \n",
    "              WHERE eid IN (SELECT eid from Train_Id)\",\n",
    "  connectionString = connection_string, colInfo = column_info)\n",
    "\n",
    "## Point to the testing set. It will be created on the fly when testing models. \n",
    "LoS_Test <- RxSqlServerData(  \n",
    "  sqlQuery = \"SELECT *   \n",
    "              FROM LoS \n",
    "              WHERE eid NOT IN (SELECT eid from Train_Id)\",\n",
    "  connectionString = connection_string, colInfo = column_info)\n",
    "\n",
    "print(\"Splitting completed\")"
   ]
  },
  {
   "cell_type": "code",
   "execution_count": 11,
   "metadata": {
    "collapsed": false
   },
   "outputs": [
    {
     "name": "stdout",
     "output_type": "stream",
     "text": [
      "[1] \"Formula written\"\n"
     ]
    }
   ],
   "source": [
    "# Write the formula after removing variables not used in the modeling.\n",
    "variables_all <- rxGetVarNames(LoS)\n",
    "variables_to_remove <- c(\"eid\", \"vdate\", \"discharged\", \"facid\")\n",
    "traning_variables <- variables_all[!(variables_all %in% c(\"lengthofstay\", variables_to_remove))]\n",
    "formula <- as.formula(paste(\"lengthofstay ~\", paste(traning_variables, collapse = \"+\")))\n",
    "\n",
    "print(\"Formula written\")"
   ]
  },
  {
   "cell_type": "code",
   "execution_count": 12,
   "metadata": {
    "collapsed": true
   },
   "outputs": [],
   "source": [
    "# Compute Context is set to SQL for model training.\n",
    "rxSetComputeContext(sql)"
   ]
  },
  {
   "cell_type": "code",
   "execution_count": 13,
   "metadata": {
    "collapsed": false
   },
   "outputs": [
    {
     "name": "stdout",
     "output_type": "stream",
     "text": [
      "[1] \"Training Regression RF done\"\n"
     ]
    }
   ],
   "source": [
    "# Train the Random Forest.\n",
    "forest_model <- rxDForest(formula = formula,\n",
    "                          data = LoS_Train,\n",
    "                          nTree = 40,\n",
    "                          minSplit = 10,\n",
    "                          minBucket = 5,\n",
    "                          cp = 0.00005,\n",
    "                          seed = 5)\n",
    "\n",
    "print(\"Training Regression RF done\")"
   ]
  },
  {
   "cell_type": "code",
   "execution_count": 14,
   "metadata": {
    "collapsed": false
   },
   "outputs": [
    {
     "name": "stdout",
     "output_type": "stream",
     "text": [
      "Rows Read: 875013, Total Rows Processed: 875013\n",
      "Total Rows written: 100000, Total time: 2.166\n",
      "Total Rows written: 200000, Total time: 4.241\n",
      "Total Rows written: 300000, Total time: 6.334\n",
      "Total Rows written: 400000, Total time: 8.451\n",
      "Total Rows written: 500000, Total time: 10.534\n",
      "Total Rows written: 600000, Total time: 12.699\n",
      "Total Rows written: 700000, Total time: 14.809\n",
      "Total Rows written: 800000, Total time: 16.933\n",
      "Total Rows written: 875013, Total time: 19.746\n",
      ", Total Chunk Time: 20.287 seconds \n",
      "[1] \"RF model uploaded to SQL\"\n"
     ]
    }
   ],
   "source": [
    "# Save the Random Forest in SQL. The compute context is set to local in order to export the model. \n",
    "rxSetComputeContext(local)\n",
    "saveRDS(forest_model, file = \"forest_model.rds\")\n",
    "forest_model_raw <- readBin(\"forest_model.rds\", \"raw\", n = file.size(\"forest_model.rds\"))\n",
    "forest_model_char <- as.character(forest_model_raw)\n",
    "forest_model_sql <- RxSqlServerData(table = \"Forest_ModelR\", connectionString = connection_string) \n",
    "rxDataStep(inData = data.frame(x = forest_model_char ), outFile = forest_model_sql, overwrite = TRUE)\n",
    "\n",
    "# Set back the compute context to SQL.\n",
    "rxSetComputeContext(sql)\n",
    "\n",
    "print(\"RF model uploaded to SQL\")"
   ]
  },
  {
   "cell_type": "code",
   "execution_count": 17,
   "metadata": {
    "collapsed": false
   },
   "outputs": [
    {
     "name": "stdout",
     "output_type": "stream",
     "text": [
      "[1] \"Training Regression Boosted Trees done\"\n"
     ]
    }
   ],
   "source": [
    "# Train the Boosted Trees model.\n",
    "library(\"MicrosoftML\")\n",
    "boosted_model <- rxFastTrees(formula = formula,\n",
    "                             data = LoS_Train,\n",
    "                             type = c(\"regression\"),\n",
    "                             numTrees = 40,\n",
    "                             learningRate = 0.2,\n",
    "                             splitFraction = 5/24,\n",
    "                             featureFraction = 1,\n",
    "                             minSplit = 10)\n",
    "\n",
    "print(\"Training Regression Boosted Trees done\")"
   ]
  },
  {
   "cell_type": "code",
   "execution_count": 18,
   "metadata": {
    "collapsed": false
   },
   "outputs": [
    {
     "name": "stdout",
     "output_type": "stream",
     "text": [
      "Rows Read: 45976, Total Rows Processed: 45976\n",
      "Total Rows written: 45976, Total time: 0.949\n",
      ", Total Chunk Time: 1.002 seconds \n",
      "[1] \"Boosted Trees model uploaded to SQL\"\n"
     ]
    }
   ],
   "source": [
    "# Save the Boosted Trees in SQL. The compute context is set to Local in order to export the model. \n",
    "rxSetComputeContext(local)\n",
    "saveRDS(boosted_model, file = \"boosted_model.rds\")\n",
    "boosted_model_raw <- readBin(\"boosted_model.rds\", \"raw\", n = file.size(\"boosted_model.rds\"))\n",
    "boosted_model_char <- as.character(boosted_model_raw)\n",
    "boosted_model_sql <- RxSqlServerData(table = \"Boosted_ModelR\", connectionString = connection_string) \n",
    "rxDataStep(inData = data.frame(x = boosted_model_char ), outFile = boosted_model_sql, overwrite = TRUE)\n",
    "\n",
    "print(\"Boosted Trees model uploaded to SQL\")"
   ]
  },
  {
   "cell_type": "code",
   "execution_count": 19,
   "metadata": {
    "collapsed": true
   },
   "outputs": [],
   "source": [
    "# Write a function that computes regression performance metrics. \n",
    "evaluate_model <- function(observed, predicted, model) {\n",
    "  mean_observed <- mean(observed)\n",
    "  se <- (observed - predicted)^2\n",
    "  ae <- abs(observed - predicted)\n",
    "  sem <- (observed - mean_observed)^2\n",
    "  aem <- abs(observed - mean_observed)\n",
    "  mae <- mean(ae)\n",
    "  rmse <- sqrt(mean(se))\n",
    "  rae <- sum(ae) / sum(aem)\n",
    "  rse <- sum(se) / sum(sem)\n",
    "  rsq <- 1 - rse\n",
    "  metrics <- c(\"Mean Absolute Error\" = mae,\n",
    "               \"Root Mean Squared Error\" = rmse,\n",
    "               \"Relative Absolute Error\" = rae,\n",
    "               \"Relative Squared Error\" = rse,\n",
    "               \"Coefficient of Determination\" = rsq)\n",
    "  print(model)\n",
    "  print(metrics)\n",
    "  print(\"Summary statistics of the absolute error\")\n",
    "  print(summary(abs(observed-predicted)))\n",
    "  return(metrics)\n",
    "}"
   ]
  },
  {
   "cell_type": "code",
   "execution_count": 20,
   "metadata": {
    "collapsed": false
   },
   "outputs": [
    {
     "name": "stdout",
     "output_type": "stream",
     "text": [
      "Rows Read: 30181, Total Rows Processed: 30181, Total Chunk Time: 1.794 seconds\n",
      "Total Rows written: 30181, Total time: 0.707\n",
      " \n",
      "Rows Read: 30181, Total Rows Processed: 30181, Total Chunk Time: 0.032 seconds \n",
      "[1] \"Random Forest (rxDForest)\"\n",
      "         Mean Absolute Error      Root Mean Squared Error \n",
      "                   0.6029360                    0.8020022 \n",
      "     Relative Absolute Error       Relative Squared Error \n",
      "                   0.3136034                    0.1148046 \n",
      "Coefficient of Determination \n",
      "                   0.8851954 \n",
      "[1] \"Summary statistics of the absolute error\"\n",
      "    Min.  1st Qu.   Median     Mean  3rd Qu.     Max. \n",
      "0.000116 0.324700 0.475500 0.602900 0.740200 7.272000 \n",
      "[1] \"Scoring Random Forest (rxDForest) done\"\n"
     ]
    }
   ],
   "source": [
    "# Random Forest Scoring \n",
    "\n",
    "## Make Predictions, then import them into R. \n",
    "forest_prediction_sql <- RxSqlServerData(table = \"Forest_Prediction\", stringsAsFactors = T,\n",
    "                                         connectionString = connection_string)\n",
    "\n",
    "rxPredict(modelObject = forest_model,\n",
    "          data = LoS_Test, \n",
    "          outData = forest_prediction_sql,\n",
    "          overwrite = T, \n",
    "          type = \"response\",\n",
    "          extraVarsToWrite = c(\"lengthofstay\", \"eid\"))\n",
    "\n",
    "## Compute the performance metrics of the model.\n",
    "forest_prediction <- rxImport(inData = forest_prediction_sql)\n",
    "\n",
    "forest_metrics <- evaluate_model(observed = forest_prediction$lengthofstay,\n",
    "                                 predicted = forest_prediction$lengthofstay_Pred,\n",
    "                                 model = \"Random Forest (rxDForest)\")\n",
    "\n",
    "print(\"Scoring Random Forest (rxDForest) done\")"
   ]
  },
  {
   "cell_type": "code",
   "execution_count": 21,
   "metadata": {
    "collapsed": false
   },
   "outputs": [
    {
     "name": "stdout",
     "output_type": "stream",
     "text": [
      "Beginning read starting with row: 1\n",
      "Rows Read: 30181, Read Time: 1.644, Transform Time: 0.029\n",
      "Beginning read starting with row: 30181\n",
      "No rows remaining. Finished reading data set. \n",
      "Total Rows written: 30181, Total time: 0.668\n",
      "Elapsed time: 00:00:03.4557909\n",
      "Finished writing 30181 rows.\n",
      "Writing completed.\n",
      "Rows Read: 30181, Total Rows Processed: 30181, Total Chunk Time: 0.028 seconds \n",
      "[1] \"Boosted Trees (rxFastTrees)\"\n",
      "         Mean Absolute Error      Root Mean Squared Error \n",
      "                  0.37330357                   0.51735945 \n",
      "     Relative Absolute Error       Relative Squared Error \n",
      "                  0.19416533                   0.04777415 \n",
      "Coefficient of Determination \n",
      "                  0.95222585 \n",
      "[1] \"Summary statistics of the absolute error\"\n",
      "    Min.  1st Qu.   Median     Mean  3rd Qu.     Max. \n",
      "0.000025 0.154700 0.272500 0.373300 0.451900 4.462000 \n",
      "[1] \"Scoring Boosted Trees (rxFastTrees) done\"\n"
     ]
    }
   ],
   "source": [
    "# Boosted Trees Scoring \n",
    "library(\"MicrosoftML\")\n",
    "## Make Predictions, then import them into R. \n",
    "boosted_prediction_sql <- RxSqlServerData(table = \"Boosted_Prediction\", stringsAsFactors = T,\n",
    "                                          connectionString = connection_string)\n",
    "\n",
    "rxPredict(modelObject = boosted_model,\n",
    "          data = LoS_Test,\n",
    "          outData = boosted_prediction_sql,\n",
    "          extraVarsToWrite = c(\"lengthofstay\", \"eid\"),\n",
    "          overwrite = TRUE)\n",
    "\n",
    "## Compute the performance metrics of the model.\n",
    "boosted_prediction <- rxImport(boosted_prediction_sql)\n",
    "\n",
    "boosted_metrics <- evaluate_model(observed = boosted_prediction$lengthofstay,\n",
    "                                  predicted = boosted_prediction$Score,\n",
    "                                  model = \"Boosted Trees (rxFastTrees)\")\n",
    "\n",
    "print(\"Scoring Boosted Trees (rxFastTrees) done\")"
   ]
  }
 ],
 "metadata": {
  "celltoolbar": "Raw Cell Format",
  "kernelspec": {
   "display_name": "Python 3",
   "language": "python",
   "name": "python3"
  },
  "language_info": {
   "codemirror_mode": {
    "name": "ipython",
    "version": 3
   },
   "file_extension": ".py",
   "mimetype": "text/x-python",
   "name": "python",
   "nbconvert_exporter": "python",
   "pygments_lexer": "ipython3",
   "version": "3.6.0"
  }
 },
 "nbformat": 4,
 "nbformat_minor": 0
}
